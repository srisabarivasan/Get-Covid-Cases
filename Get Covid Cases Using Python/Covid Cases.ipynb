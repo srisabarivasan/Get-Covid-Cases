{
 "cells": [
  {
   "cell_type": "markdown",
   "metadata": {},
   "source": [
    "Get Covid Cases Using Python"
   ]
  },
  {
   "cell_type": "code",
   "execution_count": 1,
   "metadata": {},
   "outputs": [
    {
     "name": "stdout",
     "output_type": "stream",
     "text": [
      "Note: you may need to restart the kernel to use updated packages.Defaulting to user installation because normal site-packages is not writeable\n",
      "Collecting covid\n",
      "  Downloading covid-3.0.0-py3-none-any.whl.metadata (6.8 kB)\n",
      "Collecting beautifulsoup4 (from covid)\n",
      "  Downloading beautifulsoup4-4.12.3-py3-none-any.whl.metadata (3.8 kB)\n",
      "Collecting bleach>=3 (from covid)\n",
      "  Downloading bleach-6.1.0-py3-none-any.whl.metadata (30 kB)\n",
      "Collecting click (from covid)\n",
      "  Downloading click-8.1.7-py3-none-any.whl.metadata (3.0 kB)\n",
      "Collecting importlib-metadata (from covid)\n",
      "  Downloading importlib_metadata-8.2.0-py3-none-any.whl.metadata (4.7 kB)\n",
      "Collecting inflection (from covid)\n",
      "  Downloading inflection-0.5.1-py2.py3-none-any.whl.metadata (1.7 kB)\n",
      "Collecting jeepney>=0.4.2 (from covid)\n",
      "  Downloading jeepney-0.8.0-py3-none-any.whl.metadata (1.3 kB)\n",
      "Collecting pydantic (from covid)\n",
      "  Downloading pydantic-2.8.2-py3-none-any.whl.metadata (125 kB)\n",
      "     ---------------------------------------- 0.0/125.2 kB ? eta -:--:--\n",
      "     --- ------------------------------------ 10.2/125.2 kB ? eta -:--:--\n",
      "     --------- --------------------------- 30.7/125.2 kB 640.0 kB/s eta 0:00:01\n",
      "     --------------------- --------------- 71.7/125.2 kB 558.5 kB/s eta 0:00:01\n",
      "     --------------------------- --------- 92.2/125.2 kB 581.0 kB/s eta 0:00:01\n",
      "     ------------------------------------ 125.2/125.2 kB 566.2 kB/s eta 0:00:00\n",
      "Collecting requests (from covid)\n",
      "  Downloading requests-2.32.3-py3-none-any.whl.metadata (4.6 kB)\n",
      "Collecting typer (from covid)\n",
      "  Downloading typer-0.12.3-py3-none-any.whl.metadata (15 kB)\n",
      "Requirement already satisfied: typing-extensions in c:\\users\\plsri\\appdata\\roaming\\python\\python312\\site-packages (from covid) (4.12.2)\n",
      "Requirement already satisfied: six>=1.9.0 in c:\\users\\plsri\\appdata\\roaming\\python\\python312\\site-packages (from bleach>=3->covid) (1.16.0)\n",
      "Collecting webencodings (from bleach>=3->covid)\n",
      "  Downloading webencodings-0.5.1-py2.py3-none-any.whl.metadata (2.1 kB)\n",
      "Collecting soupsieve>1.2 (from beautifulsoup4->covid)\n",
      "  Downloading soupsieve-2.5-py3-none-any.whl.metadata (4.7 kB)\n",
      "Requirement already satisfied: colorama in c:\\users\\plsri\\appdata\\roaming\\python\\python312\\site-packages (from click->covid) (0.4.6)\n",
      "Collecting zipp>=0.5 (from importlib-metadata->covid)\n",
      "  Downloading zipp-3.19.2-py3-none-any.whl.metadata (3.6 kB)\n",
      "Collecting annotated-types>=0.4.0 (from pydantic->covid)\n",
      "  Downloading annotated_types-0.7.0-py3-none-any.whl.metadata (15 kB)\n",
      "Collecting pydantic-core==2.20.1 (from pydantic->covid)\n",
      "  Downloading pydantic_core-2.20.1-cp312-none-win_amd64.whl.metadata (6.7 kB)\n",
      "Collecting charset-normalizer<4,>=2 (from requests->covid)\n",
      "  Downloading charset_normalizer-3.3.2-cp312-cp312-win_amd64.whl.metadata (34 kB)\n",
      "Collecting idna<4,>=2.5 (from requests->covid)\n",
      "  Downloading idna-3.7-py3-none-any.whl.metadata (9.9 kB)\n",
      "Collecting urllib3<3,>=1.21.1 (from requests->covid)\n",
      "  Downloading urllib3-2.2.2-py3-none-any.whl.metadata (6.4 kB)\n",
      "Collecting certifi>=2017.4.17 (from requests->covid)\n",
      "  Downloading certifi-2024.7.4-py3-none-any.whl.metadata (2.2 kB)\n",
      "Collecting shellingham>=1.3.0 (from typer->covid)\n",
      "  Downloading shellingham-1.5.4-py2.py3-none-any.whl.metadata (3.5 kB)\n",
      "Collecting rich>=10.11.0 (from typer->covid)\n",
      "  Downloading rich-13.7.1-py3-none-any.whl.metadata (18 kB)\n",
      "Collecting markdown-it-py>=2.2.0 (from rich>=10.11.0->typer->covid)\n",
      "  Downloading markdown_it_py-3.0.0-py3-none-any.whl.metadata (6.9 kB)\n",
      "Requirement already satisfied: pygments<3.0.0,>=2.13.0 in c:\\users\\plsri\\appdata\\roaming\\python\\python312\\site-packages (from rich>=10.11.0->typer->covid) (2.18.0)\n",
      "Collecting mdurl~=0.1 (from markdown-it-py>=2.2.0->rich>=10.11.0->typer->covid)\n",
      "  Downloading mdurl-0.1.2-py3-none-any.whl.metadata (1.6 kB)\n",
      "Downloading covid-3.0.0-py3-none-any.whl (10 kB)\n",
      "Downloading bleach-6.1.0-py3-none-any.whl (162 kB)\n",
      "   ---------------------------------------- 0.0/162.8 kB ? eta -:--:--\n",
      "   ------- -------------------------------- 30.7/162.8 kB ? eta -:--:--\n",
      "   ---------- ----------------------------- 41.0/162.8 kB 1.9 MB/s eta 0:00:01\n",
      "   -------------- ------------------------ 61.4/162.8 kB 812.7 kB/s eta 0:00:01\n",
      "   ---------------------- ---------------- 92.2/162.8 kB 751.6 kB/s eta 0:00:01\n",
      "   -------------------------- ----------- 112.6/162.8 kB 656.4 kB/s eta 0:00:01\n",
      "   ----------------------------------- -- 153.6/162.8 kB 654.6 kB/s eta 0:00:01\n",
      "   -------------------------------------- 162.8/162.8 kB 651.8 kB/s eta 0:00:00\n",
      "Downloading jeepney-0.8.0-py3-none-any.whl (48 kB)\n",
      "   ---------------------------------------- 0.0/48.4 kB ? eta -:--:--\n",
      "   ------------------------- -------------- 30.7/48.4 kB 1.4 MB/s eta 0:00:01\n",
      "   ---------------------------------------- 48.4/48.4 kB 812.7 kB/s eta 0:00:00\n",
      "Downloading beautifulsoup4-4.12.3-py3-none-any.whl (147 kB)\n",
      "   ---------------------------------------- 0.0/147.9 kB ? eta -:--:--\n",
      "   -------- ------------------------------ 30.7/147.9 kB 660.6 kB/s eta 0:00:01\n",
      "   ------------------ -------------------- 71.7/147.9 kB 975.2 kB/s eta 0:00:01\n",
      "   -------------------------- ----------- 102.4/147.9 kB 737.3 kB/s eta 0:00:01\n",
      "   ------------------------------------ - 143.4/147.9 kB 774.0 kB/s eta 0:00:01\n",
      "   -------------------------------------- 147.9/147.9 kB 732.4 kB/s eta 0:00:00\n",
      "Downloading click-8.1.7-py3-none-any.whl (97 kB)\n",
      "   ---------------------------------------- 0.0/97.9 kB ? eta -:--:--\n",
      "   ---- ----------------------------------- 10.2/97.9 kB ? eta -:--:--\n",
      "   ------------ --------------------------- 30.7/97.9 kB 435.7 kB/s eta 0:00:01\n",
      "   ---------------- ----------------------- 41.0/97.9 kB 279.3 kB/s eta 0:00:01\n",
      "   ------------------------- -------------- 61.4/97.9 kB 363.1 kB/s eta 0:00:01\n",
      "   ------------------------------------- -- 92.2/97.9 kB 374.1 kB/s eta 0:00:01\n",
      "   ---------------------------------------- 97.9/97.9 kB 373.2 kB/s eta 0:00:00\n",
      "Downloading importlib_metadata-8.2.0-py3-none-any.whl (25 kB)\n",
      "Downloading inflection-0.5.1-py2.py3-none-any.whl (9.5 kB)\n",
      "Downloading pydantic-2.8.2-py3-none-any.whl (423 kB)\n",
      "   ---------------------------------------- 0.0/423.9 kB ? eta -:--:--\n",
      "   --- ------------------------------------ 41.0/423.9 kB 2.0 MB/s eta 0:00:01\n",
      "   ----------- ---------------------------- 122.9/423.9 kB 1.4 MB/s eta 0:00:01\n",
      "   --------------------- ------------------ 225.3/423.9 kB 1.7 MB/s eta 0:00:01\n",
      "   ---------------------------------- ----- 368.6/423.9 kB 2.1 MB/s eta 0:00:01\n",
      "   ---------------------------------------- 423.9/423.9 kB 2.2 MB/s eta 0:00:00\n",
      "Downloading pydantic_core-2.20.1-cp312-none-win_amd64.whl (1.9 MB)\n",
      "   ---------------------------------------- 0.0/1.9 MB ? eta -:--:--\n",
      "   --- ------------------------------------ 0.1/1.9 MB 4.3 MB/s eta 0:00:01\n",
      "   ------ --------------------------------- 0.3/1.9 MB 3.5 MB/s eta 0:00:01\n",
      "   --------- ------------------------------ 0.5/1.9 MB 4.0 MB/s eta 0:00:01\n",
      "   ----------- ---------------------------- 0.6/1.9 MB 3.5 MB/s eta 0:00:01\n",
      "   ------------- -------------------------- 0.6/1.9 MB 3.1 MB/s eta 0:00:01\n",
      "   ------------- -------------------------- 0.7/1.9 MB 2.6 MB/s eta 0:00:01\n",
      "   --------------- ------------------------ 0.8/1.9 MB 2.4 MB/s eta 0:00:01\n",
      "   ----------------- ---------------------- 0.8/1.9 MB 2.3 MB/s eta 0:00:01\n",
      "   ----------------- ---------------------- 0.8/1.9 MB 2.2 MB/s eta 0:00:01\n",
      "   ------------------ --------------------- 0.9/1.9 MB 2.0 MB/s eta 0:00:01\n",
      "   -------------------- ------------------- 1.0/1.9 MB 2.0 MB/s eta 0:00:01\n",
      "   --------------------- ------------------ 1.0/1.9 MB 1.9 MB/s eta 0:00:01\n",
      "   ---------------------- ----------------- 1.1/1.9 MB 1.8 MB/s eta 0:00:01\n",
      "   ----------------------- ---------------- 1.1/1.9 MB 1.8 MB/s eta 0:00:01\n",
      "   ------------------------- -------------- 1.2/1.9 MB 1.8 MB/s eta 0:00:01\n",
      "   --------------------------- ------------ 1.3/1.9 MB 1.7 MB/s eta 0:00:01\n",
      "   ---------------------------- ----------- 1.3/1.9 MB 1.7 MB/s eta 0:00:01\n",
      "   ----------------------------- ---------- 1.4/1.9 MB 1.7 MB/s eta 0:00:01\n",
      "   ------------------------------- -------- 1.5/1.9 MB 1.7 MB/s eta 0:00:01\n",
      "   -------------------------------- ------- 1.6/1.9 MB 1.7 MB/s eta 0:00:01\n",
      "   ---------------------------------- ----- 1.6/1.9 MB 1.7 MB/s eta 0:00:01\n",
      "   -------------------------------------- - 1.8/1.9 MB 1.7 MB/s eta 0:00:01\n",
      "   ---------------------------------------  1.9/1.9 MB 1.8 MB/s eta 0:00:01\n",
      "   ---------------------------------------- 1.9/1.9 MB 1.8 MB/s eta 0:00:00\n",
      "Downloading requests-2.32.3-py3-none-any.whl (64 kB)\n",
      "   ---------------------------------------- 0.0/64.9 kB ? eta -:--:--\n",
      "   ---------------------------------------- 64.9/64.9 kB 3.6 MB/s eta 0:00:00\n",
      "Downloading typer-0.12.3-py3-none-any.whl (47 kB)\n",
      "   ---------------------------------------- 0.0/47.2 kB ? eta -:--:--\n",
      "   ---------------------------------------- 47.2/47.2 kB 786.6 kB/s eta 0:00:00\n",
      "Downloading annotated_types-0.7.0-py3-none-any.whl (13 kB)\n",
      "Downloading certifi-2024.7.4-py3-none-any.whl (162 kB)\n",
      "   ---------------------------------------- 0.0/163.0 kB ? eta -:--:--\n",
      "   ---------------------- ----------------- 92.2/163.0 kB 1.7 MB/s eta 0:00:01\n",
      "   ----------------------------------- ---- 143.4/163.0 kB 1.4 MB/s eta 0:00:01\n",
      "   ---------------------------------------- 163.0/163.0 kB 1.4 MB/s eta 0:00:00\n",
      "Downloading charset_normalizer-3.3.2-cp312-cp312-win_amd64.whl (100 kB)\n",
      "   ---------------------------------------- 0.0/100.4 kB ? eta -:--:--\n",
      "   ---------------------------------------- 100.4/100.4 kB 2.0 MB/s eta 0:00:00\n",
      "Downloading idna-3.7-py3-none-any.whl (66 kB)\n",
      "   ---------------------------------------- 0.0/66.8 kB ? eta -:--:--\n",
      "   ------ --------------------------------- 10.2/66.8 kB ? eta -:--:--\n",
      "   ---------------------------------------- 66.8/66.8 kB 1.2 MB/s eta 0:00:00\n",
      "Downloading rich-13.7.1-py3-none-any.whl (240 kB)\n",
      "   ---------------------------------------- 0.0/240.7 kB ? eta -:--:--\n",
      "   ------------------ --------------------- 112.6/240.7 kB 3.3 MB/s eta 0:00:01\n",
      "   ---------------------------------------  235.5/240.7 kB 2.9 MB/s eta 0:00:01\n",
      "   ---------------------------------------- 240.7/240.7 kB 2.5 MB/s eta 0:00:00\n",
      "Downloading shellingham-1.5.4-py2.py3-none-any.whl (9.8 kB)\n",
      "Downloading soupsieve-2.5-py3-none-any.whl (36 kB)\n",
      "Downloading urllib3-2.2.2-py3-none-any.whl (121 kB)\n",
      "   ---------------------------------------- 0.0/121.4 kB ? eta -:--:--\n",
      "   ------------- -------------------------- 41.0/121.4 kB ? eta -:--:--\n",
      "   ------------------------------------- -- 112.6/121.4 kB 2.2 MB/s eta 0:00:01\n",
      "   ---------------------------------------- 121.4/121.4 kB 1.8 MB/s eta 0:00:00\n",
      "Downloading zipp-3.19.2-py3-none-any.whl (9.0 kB)\n",
      "Downloading webencodings-0.5.1-py2.py3-none-any.whl (11 kB)\n",
      "Downloading markdown_it_py-3.0.0-py3-none-any.whl (87 kB)\n",
      "   ---------------------------------------- 0.0/87.5 kB ? eta -:--:--\n",
      "   -------------- ------------------------- 30.7/87.5 kB 1.4 MB/s eta 0:00:01\n",
      "   -------------------------------- ------- 71.7/87.5 kB 787.7 kB/s eta 0:00:01\n",
      "   ---------------------------------------- 87.5/87.5 kB 709.1 kB/s eta 0:00:00\n",
      "Downloading mdurl-0.1.2-py3-none-any.whl (10.0 kB)\n",
      "Installing collected packages: webencodings, zipp, urllib3, soupsieve, shellingham, pydantic-core, mdurl, jeepney, inflection, idna, click, charset-normalizer, certifi, bleach, annotated-types, requests, pydantic, markdown-it-py, importlib-metadata, beautifulsoup4, rich, typer, covid\n",
      "Successfully installed annotated-types-0.7.0 beautifulsoup4-4.12.3 bleach-6.1.0 certifi-2024.7.4 charset-normalizer-3.3.2 click-8.1.7 covid-3.0.0 idna-3.7 importlib-metadata-8.2.0 inflection-0.5.1 jeepney-0.8.0 markdown-it-py-3.0.0 mdurl-0.1.2 pydantic-2.8.2 pydantic-core-2.20.1 requests-2.32.3 rich-13.7.1 shellingham-1.5.4 soupsieve-2.5 typer-0.12.3 urllib3-2.2.2 webencodings-0.5.1 zipp-3.19.2\n",
      "\n"
     ]
    },
    {
     "name": "stderr",
     "output_type": "stream",
     "text": [
      "\n",
      "[notice] A new release of pip is available: 24.0 -> 24.2\n",
      "[notice] To update, run: python.exe -m pip install --upgrade pip\n"
     ]
    }
   ],
   "source": [
    "pip install covid"
   ]
  },
  {
   "cell_type": "code",
   "execution_count": 2,
   "metadata": {},
   "outputs": [],
   "source": [
    "from covid import Covid"
   ]
  },
  {
   "cell_type": "code",
   "execution_count": 3,
   "metadata": {},
   "outputs": [],
   "source": [
    "virus = Covid()"
   ]
  },
  {
   "cell_type": "code",
   "execution_count": 7,
   "metadata": {},
   "outputs": [],
   "source": [
    "x = input(\"Enter the country name:\")"
   ]
  },
  {
   "cell_type": "code",
   "execution_count": 8,
   "metadata": {},
   "outputs": [],
   "source": [
    "cases = virus.get_status_by_country_name(x)"
   ]
  },
  {
   "cell_type": "code",
   "execution_count": 14,
   "metadata": {},
   "outputs": [
    {
     "name": "stdout",
     "output_type": "stream",
     "text": [
      "country : India\n",
      "total_cases : 45035393\n",
      "confirmed : 45035393\n",
      "new_cases : 0\n",
      "deaths : 533570\n",
      "new_deaths : 0\n",
      "recovered : 0\n",
      "active : 0\n",
      "active_cases : 0\n",
      "critical : 0\n",
      "total_tests : 935879495\n",
      "total_tests_per_million : 0\n",
      "total_cases_per_million : 32016\n",
      "total_deaths_per_million : 379\n",
      "population : 1406631776\n"
     ]
    }
   ],
   "source": [
    "for x in cases:\n",
    "    print(x,':',cases[x])"
   ]
  }
 ],
 "metadata": {
  "kernelspec": {
   "display_name": "Python 3",
   "language": "python",
   "name": "python3"
  },
  "language_info": {
   "codemirror_mode": {
    "name": "ipython",
    "version": 3
   },
   "file_extension": ".py",
   "mimetype": "text/x-python",
   "name": "python",
   "nbconvert_exporter": "python",
   "pygments_lexer": "ipython3",
   "version": "3.12.2"
  }
 },
 "nbformat": 4,
 "nbformat_minor": 2
}
